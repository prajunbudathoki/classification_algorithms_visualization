{
 "cells": [
  {
   "cell_type": "markdown",
   "metadata": {
    "vscode": {
     "languageId": "plaintext"
    }
   },
   "source": [
    "#### What is Decision Tree ?\n",
    "Decision tree is an Ml algorithm which helps to make decision by breaking down a big problem into smaller,easier to solve parts.\n",
    "\n",
    "### What is entropy ?\n",
    "Entropy is a concept that measures uncertainty or disorder in a system.In ML entropy is used to decide how to split the data.\n",
    "- High Entropy : The data is mixed and unpredictable.\n",
    "- Low Entropy : The data is pure and predictable."
   ]
  },
  {
   "cell_type": "markdown",
   "metadata": {},
   "source": []
  }
 ],
 "metadata": {
  "language_info": {
   "name": "python"
  }
 },
 "nbformat": 4,
 "nbformat_minor": 2
}
