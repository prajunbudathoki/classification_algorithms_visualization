{
 "cells": [
  {
   "cell_type": "code",
   "execution_count": 6,
   "metadata": {},
   "outputs": [],
   "source": [
    "import numpy as np \n",
    "import pandas as pd "
   ]
  },
  {
   "cell_type": "code",
   "execution_count": 1,
   "metadata": {},
   "outputs": [],
   "source": [
    "# Compute the sigmoid function using the formula: 1 / (1 + e^(-z)).\n",
    "def sigmoid(z):\n",
    "    return 1 / (1 + np.exp(-z))"
   ]
  },
  {
   "cell_type": "code",
   "execution_count": 13,
   "metadata": {},
   "outputs": [],
   "source": [
    "class LogisticRegression:\n",
    "    def __init__(self, learning_rate=0.01, max_iter=10000):\n",
    "        self.learning_rate = learning_rate\n",
    "        self.max_iter = max_iter\n",
    "        self.W = None\n",
    "        self.b = 0\n",
    "        self.loss_history = []  # To track loss over iterations\n",
    "\n",
    "    def compute_loss(self, y_true, y_pred):\n",
    "        # Cross-entropy loss formula\n",
    "        epsilon = 1e-8  # Small value to avoid log(0)\n",
    "        loss = -np.mean(y_true * np.log(y_pred + epsilon) + (1 - y_true) * np.log(1 - y_pred + epsilon))\n",
    "        return loss\n",
    "\n",
    "    def fit(self, X, y):\n",
    "        # Initialize parameters\n",
    "        n_samples, n_features = X.shape\n",
    "        self.W = np.zeros(n_features)\n",
    "        \n",
    "        # Gradient Descent\n",
    "        for i in range(self.max_iter):\n",
    "            # Forward pass\n",
    "            linear_model = np.dot(X, self.W) + self.b\n",
    "            predictions = sigmoid(linear_model)\n",
    "            \n",
    "            # Compute loss (cross-entropy)\n",
    "            loss = self.compute_loss(y, predictions)\n",
    "            self.loss_history.append(loss)  # Track loss\n",
    "            \n",
    "            # Compute gradients\n",
    "            dw = (1/n_samples) * np.dot(X.T, (predictions - y))\n",
    "            db = (1/n_samples) * np.sum(predictions - y)\n",
    "            \n",
    "            # Update parameters\n",
    "            self.W -= self.learning_rate * dw\n",
    "            self.b -= self.learning_rate * db\n",
    "\n",
    "            # Print loss every 1000 iterations\n",
    "            if i % 1000 == 0:\n",
    "                print(f\"Iteration {i}, Loss: {loss}\")\n",
    "\n",
    "    def predict_prob(self, X):\n",
    "        return sigmoid(np.dot(X, self.W) + self.b)\n",
    "    \n",
    "    def predict(self, X, threshold=0.5):\n",
    "        return (self.predict_prob(X) >= threshold).astype(int)"
   ]
  },
  {
   "cell_type": "code",
   "execution_count": 14,
   "metadata": {},
   "outputs": [],
   "source": [
    "# Example usage with synthetic data\n",
    "from sklearn.datasets import make_classification\n",
    "from sklearn.model_selection import train_test_split"
   ]
  },
  {
   "cell_type": "code",
   "execution_count": 15,
   "metadata": {},
   "outputs": [],
   "source": [
    "# Generate data\n",
    "X, y = make_classification(n_samples=1000, n_features=2, n_redundant=0, n_informative=2, random_state=42)\n",
    "X_train, X_test, y_train, y_test = train_test_split(X, y, test_size=0.2, random_state=42)"
   ]
  },
  {
   "cell_type": "code",
   "execution_count": 20,
   "metadata": {},
   "outputs": [
    {
     "name": "stdout",
     "output_type": "stream",
     "text": [
      "Iteration 0, Loss: 0.6931471605599454\n",
      "Iteration 1000, Loss: 0.3427010354319957\n",
      "Iteration 2000, Loss: 0.34270092509694755\n",
      "Iteration 3000, Loss: 0.3427009250963203\n",
      "Iteration 4000, Loss: 0.34270092509632016\n",
      "Iteration 5000, Loss: 0.3427009250963202\n",
      "Iteration 6000, Loss: 0.3427009250963202\n",
      "Iteration 7000, Loss: 0.3427009250963202\n",
      "Iteration 8000, Loss: 0.3427009250963202\n",
      "Iteration 9000, Loss: 0.3427009250963202\n"
     ]
    }
   ],
   "source": [
    "# Train the model\n",
    "model = LogisticRegression(learning_rate=0.1, max_iter=10000)\n",
    "model.fit(X_train, y_train)"
   ]
  },
  {
   "cell_type": "code",
   "execution_count": 21,
   "metadata": {},
   "outputs": [],
   "source": [
    "# Predict\n",
    "y_pred = model.predict(X_test)"
   ]
  },
  {
   "cell_type": "code",
   "execution_count": 22,
   "metadata": {},
   "outputs": [
    {
     "name": "stdout",
     "output_type": "stream",
     "text": [
      "Accuracy: 0.88\n"
     ]
    }
   ],
   "source": [
    "# Calculate accuracy\n",
    "accuracy = np.mean(y_pred == y_test)\n",
    "print(f\"Accuracy: {accuracy:.2f}\")"
   ]
  },
  {
   "cell_type": "code",
   "execution_count": null,
   "metadata": {},
   "outputs": [],
   "source": []
  }
 ],
 "metadata": {
  "kernelspec": {
   "display_name": "base",
   "language": "python",
   "name": "python3"
  },
  "language_info": {
   "codemirror_mode": {
    "name": "ipython",
    "version": 3
   },
   "file_extension": ".py",
   "mimetype": "text/x-python",
   "name": "python",
   "nbconvert_exporter": "python",
   "pygments_lexer": "ipython3",
   "version": "3.11.7"
  }
 },
 "nbformat": 4,
 "nbformat_minor": 2
}
